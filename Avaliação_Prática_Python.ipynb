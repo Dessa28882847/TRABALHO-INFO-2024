{
  "nbformat": 4,
  "nbformat_minor": 0,
  "metadata": {
    "colab": {
      "provenance": []
    },
    "kernelspec": {
      "name": "python3",
      "display_name": "Python 3"
    },
    "language_info": {
      "name": "python"
    }
  },
  "cells": [
    {
      "cell_type": "code",
      "execution_count": null,
      "metadata": {
        "id": "2Q2P2-Ixi2q2"
      },
      "outputs": [],
      "source": [
        "def cadastrar_pessoas():\n",
        "    pessoas = []\n",
        "\n",
        "    while True:\n",
        "        print(\"Digite os dados da pessoa:\")\n",
        "\n",
        "        nome = input(\"Nome: \")\n",
        "        if nome == '0':\n",
        "            break\n",
        "\n",
        "        idade = input(\"Idade: \")\n",
        "        if idade == '0':\n",
        "            break\n",
        "\n",
        "        email = input(\"Email: \")\n",
        "        if email == '0':\n",
        "            break\n",
        "\n",
        "        cidade = input(\"Cidade: \")\n",
        "        if cidade == '0':\n",
        "            break\n",
        "\n",
        "        pessoa = {\n",
        "            \"Nome\": nome,\n",
        "            \"Idade\": idade,\n",
        "            \"Email\": email,\n",
        "            \"Cidade\": cidade\n",
        "        }\n",
        "\n",
        "        pessoas.append(pessoa)\n",
        "\n",
        "    print(\"\\nDados cadastrados:\")\n",
        "    for pessoa in pessoas:\n",
        "        print(f\"Nome: {pessoa['Nome']}\")\n",
        "        print(f\"Idade: {pessoa['Idade']}\")\n",
        "        print(f\"Email: {pessoa['Email']}\")\n",
        "        print(f\"Cidade: {pessoa['Cidade']}\")\n",
        "        print(\"--------\")\n",
        "\n",
        "# Chame a função para testar\n",
        "cadastrar_pessoas()\n"
      ]
    }
  ]
}